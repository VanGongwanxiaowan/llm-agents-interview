{
 "cells": [
  {
   "cell_type": "markdown",
   "metadata": {},
   "source": []
  },
  {
   "cell_type": "markdown",
   "metadata": {},
   "source": [
    "# 如何为您的智能体记忆添加语义搜索\n",
    "\n",
    "本指南展示了如何在您的智能体记忆存储中启用语义搜索。这允许通过语义相似性在存储中搜索项目。\n",
    "\n",
    "!!! tip 先决条件\n",
    "    本指南假设您熟悉 [LangGraph 中的记忆](https://langchain-ai.github.io/langgraph/concepts/memory/)。\n",
    "\n",
    "首先，安装本指南的先决条件。"
   ]
  },
  {
   "cell_type": "code",
   "execution_count": null,
   "metadata": {},
   "outputs": [],
   "source": [
    "%%capture --no-stderr\n",
    "%pip install -U langgraph langchain-openai langchain"
   ]
  },
  {
   "cell_type": "code",
   "execution_count": 1,
   "metadata": {},
   "outputs": [],
   "source": [
    "import getpass\n",
    "import os\n",
    "\n",
    "\n",
    "def _set_env(var: str):\n",
    "    if not os.environ.get(var):\n",
    "        os.environ[var] = getpass.getpass(f\"{var}: \")\n",
    "\n",
    "\n",
    "_set_env(\"OPENAI_API_KEY\")"
   ]
  },
  {
   "cell_type": "markdown",
   "metadata": {},
   "source": [
    "接下来，使用[索引配置](https://langchain-ai.github.io/langgraph/reference/store/#langgraph.store.base.IndexConfig)创建存储。默认情况下，存储配置为没有语义/向量搜索。您可以通过向存储的构造函数提供[IndexConfig](https://langchain-ai.github.io/langgraph/reference/store/#langgraph.store.base.IndexConfig)来选择在创建存储时索引项目。如果您的存储类没有实现此接口，或者您没有传入索引配置，则语义搜索被禁用，传递给 `put` 或 `aput` 的所有 `index` 参数都不会生效。下面是一个示例。"
   ]
  },
  {
   "cell_type": "code",
   "execution_count": 2,
   "metadata": {},
   "outputs": [
    {
     "name": "stderr",
     "output_type": "stream",
     "text": [
      "/var/folders/gf/6rnp_mbx5914kx7qmmh7xzmw0000gn/T/ipykernel_83572/2318027494.py:5: LangChainBetaWarning: The function `init_embeddings` is in beta. It is actively being worked on, so the API may change.\n",
      "  embeddings = init_embeddings(\"openai:text-embedding-3-small\")\n"
     ]
    }
   ],
   "source": [
    "from langchain.embeddings import init_embeddings\n",
    "from langgraph.store.memory import InMemoryStore\n",
    "\n",
    "# Create store with semantic search enabled\n",
    "embeddings = init_embeddings(\"openai:text-embedding-3-small\")\n",
    "store = InMemoryStore(\n",
    "    index={\n",
    "        \"embed\": embeddings,\n",
    "        \"dims\": 1536,\n",
    "    }\n",
    ")"
   ]
  },
  {
   "cell_type": "markdown",
   "metadata": {},
   "source": [
    "现在让我们存储一些记忆："
   ]
  },
  {
   "cell_type": "code",
   "execution_count": 3,
   "metadata": {},
   "outputs": [],
   "source": [
    "# Store some memories\n",
    "store.put((\"user_123\", \"memories\"), \"1\", {\"text\": \"I love pizza\"})\n",
    "store.put((\"user_123\", \"memories\"), \"2\", {\"text\": \"I prefer Italian food\"})\n",
    "store.put((\"user_123\", \"memories\"), \"3\", {\"text\": \"I don't like spicy food\"})\n",
    "store.put((\"user_123\", \"memories\"), \"3\", {\"text\": \"I am studying econometrics\"})\n",
    "store.put((\"user_123\", \"memories\"), \"3\", {\"text\": \"I am a plumber\"})"
   ]
  },
  {
   "cell_type": "markdown",
   "metadata": {},
   "source": [
    "使用自然语言搜索记忆："
   ]
  },
  {
   "cell_type": "code",
   "execution_count": 4,
   "metadata": {},
   "outputs": [
    {
     "name": "stdout",
     "output_type": "stream",
     "text": [
      "Memory: I prefer Italian food (similarity: 0.46482669521168163)\n",
      "Memory: I love pizza (similarity: 0.35514845174380766)\n",
      "Memory: I am a plumber (similarity: 0.155698702336571)\n"
     ]
    }
   ],
   "source": [
    "# Find memories about food preferences\n",
    "memories = store.search((\"user_123\", \"memories\"), query=\"I like food?\", limit=5)\n",
    "\n",
    "for memory in memories:\n",
    "    print(f\"Memory: {memory.value['text']} (similarity: {memory.score})\")"
   ]
  },
  {
   "cell_type": "markdown",
   "metadata": {},
   "source": [
    "## 在您的智能体中使用\n",
    "\n",
    "通过注入存储为任何节点添加语义搜索。"
   ]
  },
  {
   "cell_type": "code",
   "execution_count": 5,
   "metadata": {},
   "outputs": [
    {
     "name": "stdout",
     "output_type": "stream",
     "text": [
      "What are you in the mood for? Since you love Italian food and pizza, would you like to order a pizza or try making one at home?"
     ]
    }
   ],
   "source": [
    "from typing import Optional\n",
    "\n",
    "from langchain.chat_models import init_chat_model\n",
    "from langgraph.store.base import BaseStore\n",
    "\n",
    "from langgraph.graph import START, MessagesState, StateGraph\n",
    "\n",
    "llm = init_chat_model(\"openai:gpt-4o-mini\")\n",
    "\n",
    "\n",
    "def chat(state, *, store: BaseStore):\n",
    "    # Search based on user's last message\n",
    "    items = store.search(\n",
    "        (\"user_123\", \"memories\"), query=state[\"messages\"][-1].content, limit=2\n",
    "    )\n",
    "    memories = \"\\n\".join(item.value[\"text\"] for item in items)\n",
    "    memories = f\"## Memories of user\\n{memories}\" if memories else \"\"\n",
    "    response = llm.invoke(\n",
    "        [\n",
    "            {\"role\": \"system\", \"content\": f\"You are a helpful assistant.\\n{memories}\"},\n",
    "            *state[\"messages\"],\n",
    "        ]\n",
    "    )\n",
    "    return {\"messages\": [response]}\n",
    "\n",
    "\n",
    "builder = StateGraph(MessagesState)\n",
    "builder.add_node(chat)\n",
    "builder.add_edge(START, \"chat\")\n",
    "graph = builder.compile(store=store)\n",
    "\n",
    "for message, metadata in graph.stream(\n",
    "    input={\"messages\": [{\"role\": \"user\", \"content\": \"I'm hungry\"}]},\n",
    "    stream_mode=\"messages\",\n",
    "):\n",
    "    print(message.content, end=\"\")"
   ]
  },
  {
   "cell_type": "markdown",
   "metadata": {},
   "source": [
    "## 在 `create_react_agent` 中使用 {#using-in-create-react-agent}\n",
    "\n",
    "通过在 `prompt` 函数中注入存储来为您的工具调用智能体添加语义搜索。您也可以在工具中使用存储，让您的智能体手动存储或搜索记忆。"
   ]
  },
  {
   "cell_type": "code",
   "execution_count": 6,
   "metadata": {},
   "outputs": [],
   "source": [
    "import uuid\n",
    "from typing import Optional\n",
    "\n",
    "from langchain.chat_models import init_chat_model\n",
    "from langgraph.prebuilt import InjectedStore\n",
    "from langgraph.store.base import BaseStore\n",
    "from typing_extensions import Annotated\n",
    "\n",
    "from langgraph.prebuilt import create_react_agent\n",
    "\n",
    "\n",
    "def prepare_messages(state, *, store: BaseStore):\n",
    "    # Search based on user's last message\n",
    "    items = store.search(\n",
    "        (\"user_123\", \"memories\"), query=state[\"messages\"][-1].content, limit=2\n",
    "    )\n",
    "    memories = \"\\n\".join(item.value[\"text\"] for item in items)\n",
    "    memories = f\"## Memories of user\\n{memories}\" if memories else \"\"\n",
    "    return [\n",
    "        {\"role\": \"system\", \"content\": f\"You are a helpful assistant.\\n{memories}\"}\n",
    "    ] + state[\"messages\"]\n",
    "\n",
    "\n",
    "# You can also use the store directly within a tool!\n",
    "def upsert_memory(\n",
    "    content: str,\n",
    "    *,\n",
    "    memory_id: Optional[uuid.UUID] = None,\n",
    "    store: Annotated[BaseStore, InjectedStore],\n",
    "):\n",
    "    \"\"\"Upsert a memory in the database.\"\"\"\n",
    "    # The LLM can use this tool to store a new memory\n",
    "    mem_id = memory_id or uuid.uuid4()\n",
    "    store.put(\n",
    "        (\"user_123\", \"memories\"),\n",
    "        key=str(mem_id),\n",
    "        value={\"text\": content},\n",
    "    )\n",
    "    return f\"Stored memory {mem_id}\"\n",
    "\n",
    "\n",
    "agent = create_react_agent(\n",
    "    init_chat_model(\"openai:gpt-4o-mini\"),\n",
    "    tools=[upsert_memory],\n",
    "    # The 'prompt' function is run to prepare the messages for the LLM. It is called\n",
    "    # right before each LLM call\n",
    "    prompt=prepare_messages,\n",
    "    store=store,\n",
    ")"
   ]
  },
  {
   "cell_type": "code",
   "execution_count": 7,
   "metadata": {},
   "outputs": [
    {
     "name": "stdout",
     "output_type": "stream",
     "text": [
      "What are you in the mood for? Since you love Italian food and pizza, maybe something in that realm would be great! Would you like suggestions for a specific dish or restaurant?"
     ]
    }
   ],
   "source": [
    "for message, metadata in agent.stream(\n",
    "    input={\"messages\": [{\"role\": \"user\", \"content\": \"I'm hungry\"}]},\n",
    "    stream_mode=\"messages\",\n",
    "):\n",
    "    print(message.content, end=\"\")"
   ]
  },
  {
   "cell_type": "markdown",
   "metadata": {},
   "source": [
    "## 高级用法\n",
    "\n",
    "#### 多向量索引\n",
    "\n",
    "分别存储和搜索记忆的不同方面，以提高回忆或省略某些字段不被索引。"
   ]
  },
  {
   "cell_type": "code",
   "execution_count": 8,
   "metadata": {},
   "outputs": [
    {
     "name": "stdout",
     "output_type": "stream",
     "text": [
      "Expect mem 2\n",
      "Item: mem2; Score (0.5895009051396596)\n",
      "Memory: Ate alone at home\n",
      "Emotion: felt a bit lonely\n",
      "\n",
      "Expect mem1\n",
      "Item: mem1; Score (0.6207546534134083)\n",
      "Memory: Had pizza with friends at Mario's\n",
      "Emotion: felt happy and connected\n",
      "\n",
      "Expect random lower score (ravioli not indexed)\n",
      "Item: mem1; Score (0.2686278787315685)\n",
      "Memory: Had pizza with friends at Mario's\n",
      "Emotion: felt happy and connected\n",
      "\n"
     ]
    }
   ],
   "source": [
    "# Configure store to embed both memory content and emotional context\n",
    "store = InMemoryStore(\n",
    "    index={\"embed\": embeddings, \"dims\": 1536, \"fields\": [\"memory\", \"emotional_context\"]}\n",
    ")\n",
    "# Store memories with different content/emotion pairs\n",
    "store.put(\n",
    "    (\"user_123\", \"memories\"),\n",
    "    \"mem1\",\n",
    "    {\n",
    "        \"memory\": \"Had pizza with friends at Mario's\",\n",
    "        \"emotional_context\": \"felt happy and connected\",\n",
    "        \"this_isnt_indexed\": \"I prefer ravioli though\",\n",
    "    },\n",
    ")\n",
    "store.put(\n",
    "    (\"user_123\", \"memories\"),\n",
    "    \"mem2\",\n",
    "    {\n",
    "        \"memory\": \"Ate alone at home\",\n",
    "        \"emotional_context\": \"felt a bit lonely\",\n",
    "        \"this_isnt_indexed\": \"I like pie\",\n",
    "    },\n",
    ")\n",
    "\n",
    "# Search focusing on emotional state - matches mem2\n",
    "results = store.search(\n",
    "    (\"user_123\", \"memories\"), query=\"times they felt isolated\", limit=1\n",
    ")\n",
    "print(\"Expect mem 2\")\n",
    "for r in results:\n",
    "    print(f\"Item: {r.key}; Score ({r.score})\")\n",
    "    print(f\"Memory: {r.value['memory']}\")\n",
    "    print(f\"Emotion: {r.value['emotional_context']}\\n\")\n",
    "\n",
    "# Search focusing on social eating - matches mem1\n",
    "print(\"Expect mem1\")\n",
    "results = store.search((\"user_123\", \"memories\"), query=\"fun pizza\", limit=1)\n",
    "for r in results:\n",
    "    print(f\"Item: {r.key}; Score ({r.score})\")\n",
    "    print(f\"Memory: {r.value['memory']}\")\n",
    "    print(f\"Emotion: {r.value['emotional_context']}\\n\")\n",
    "\n",
    "print(\"Expect random lower score (ravioli not indexed)\")\n",
    "results = store.search((\"user_123\", \"memories\"), query=\"ravioli\", limit=1)\n",
    "for r in results:\n",
    "    print(f\"Item: {r.key}; Score ({r.score})\")\n",
    "    print(f\"Memory: {r.value['memory']}\")\n",
    "    print(f\"Emotion: {r.value['emotional_context']}\\n\")"
   ]
  },
  {
   "cell_type": "markdown",
   "metadata": {},
   "source": [
    "#### 在存储时覆盖字段\n",
    "您可以使用 `put(..., index=[...fields])` 覆盖在存储特定记忆时要嵌入的字段，无论存储的默认配置如何。"
   ]
  },
  {
   "cell_type": "code",
   "execution_count": 9,
   "metadata": {},
   "outputs": [
    {
     "name": "stdout",
     "output_type": "stream",
     "text": [
      "Expect mem1\n",
      "Item: mem1; Score (0.3374968677940555)\n",
      "Memory: I love spicy food\n",
      "Context: At a Thai restaurant\n",
      "\n",
      "Expect mem2\n",
      "Item: mem2; Score (0.36784461593247436)\n",
      "Memory: The restaurant was too loud\n",
      "Context: Dinner at an Italian place\n",
      "\n"
     ]
    }
   ],
   "source": [
    "store = InMemoryStore(\n",
    "    index={\n",
    "        \"embed\": embeddings,\n",
    "        \"dims\": 1536,\n",
    "        \"fields\": [\"memory\"],\n",
    "    }  # Default to embed memory field\n",
    ")\n",
    "\n",
    "# Store one memory with default indexing\n",
    "store.put(\n",
    "    (\"user_123\", \"memories\"),\n",
    "    \"mem1\",\n",
    "    {\"memory\": \"I love spicy food\", \"context\": \"At a Thai restaurant\"},\n",
    ")\n",
    "\n",
    "# Store another overriding which fields to embed\n",
    "store.put(\n",
    "    (\"user_123\", \"memories\"),\n",
    "    \"mem2\",\n",
    "    {\"memory\": \"The restaurant was too loud\", \"context\": \"Dinner at an Italian place\"},\n",
    "    index=[\"context\"],  # Override: only embed the context\n",
    ")\n",
    "\n",
    "# Search about food - matches mem1 (using default field)\n",
    "print(\"Expect mem1\")\n",
    "results = store.search(\n",
    "    (\"user_123\", \"memories\"), query=\"what food do they like\", limit=1\n",
    ")\n",
    "for r in results:\n",
    "    print(f\"Item: {r.key}; Score ({r.score})\")\n",
    "    print(f\"Memory: {r.value['memory']}\")\n",
    "    print(f\"Context: {r.value['context']}\\n\")\n",
    "\n",
    "# Search about restaurant atmosphere - matches mem2 (using overridden field)\n",
    "print(\"Expect mem2\")\n",
    "results = store.search(\n",
    "    (\"user_123\", \"memories\"), query=\"restaurant environment\", limit=1\n",
    ")\n",
    "for r in results:\n",
    "    print(f\"Item: {r.key}; Score ({r.score})\")\n",
    "    print(f\"Memory: {r.value['memory']}\")\n",
    "    print(f\"Context: {r.value['context']}\\n\")"
   ]
  },
  {
   "cell_type": "markdown",
   "metadata": {},
   "source": [
    "#### 禁用特定记忆的索引\n",
    "\n",
    "某些记忆不应该通过内容搜索。您可以使用 `put(..., index=False)` 在仍然存储它们的同时禁用索引。示例："
   ]
  },
  {
   "cell_type": "code",
   "execution_count": 10,
   "metadata": {},
   "outputs": [
    {
     "name": "stdout",
     "output_type": "stream",
     "text": [
      "Expect mem1\n",
      "Item: mem1; Score (0.32269984224327286)\n",
      "Memory: I love chocolate ice cream\n",
      "Type: preference\n",
      "\n",
      "Expect low score (mem2 not indexed)\n",
      "Item: mem1; Score (0.010241633698527089)\n",
      "Memory: I love chocolate ice cream\n",
      "Type: preference\n",
      "\n"
     ]
    }
   ],
   "source": [
    "store = InMemoryStore(index={\"embed\": embeddings, \"dims\": 1536, \"fields\": [\"memory\"]})\n",
    "\n",
    "# Store a normal indexed memory\n",
    "store.put(\n",
    "    (\"user_123\", \"memories\"),\n",
    "    \"mem1\",\n",
    "    {\"memory\": \"I love chocolate ice cream\", \"type\": \"preference\"},\n",
    ")\n",
    "\n",
    "# Store a system memory without indexing\n",
    "store.put(\n",
    "    (\"user_123\", \"memories\"),\n",
    "    \"mem2\",\n",
    "    {\"memory\": \"User completed onboarding\", \"type\": \"system\"},\n",
    "    index=False,  # Disable indexing entirely\n",
    ")\n",
    "\n",
    "# Search about food preferences - finds mem1\n",
    "print(\"Expect mem1\")\n",
    "results = store.search((\"user_123\", \"memories\"), query=\"what food preferences\", limit=1)\n",
    "for r in results:\n",
    "    print(f\"Item: {r.key}; Score ({r.score})\")\n",
    "    print(f\"Memory: {r.value['memory']}\")\n",
    "    print(f\"Type: {r.value['type']}\\n\")\n",
    "\n",
    "# Search about onboarding - won't find mem2 (not indexed)\n",
    "print(\"Expect low score (mem2 not indexed)\")\n",
    "results = store.search((\"user_123\", \"memories\"), query=\"onboarding status\", limit=1)\n",
    "for r in results:\n",
    "    print(f\"Item: {r.key}; Score ({r.score})\")\n",
    "    print(f\"Memory: {r.value['memory']}\")\n",
    "    print(f\"Type: {r.value['type']}\\n\")"
   ]
  }
 ],
 "metadata": {
  "kernelspec": {
   "display_name": "Python 3 (ipykernel)",
   "language": "python",
   "name": "python3"
  },
  "language_info": {
   "codemirror_mode": {
    "name": "ipython",
    "version": 3
   },
   "file_extension": ".py",
   "mimetype": "text/x-python",
   "name": "python",
   "nbconvert_exporter": "python",
   "pygments_lexer": "ipython3",
   "version": "3.12.3"
  }
 },
 "nbformat": 4,
 "nbformat_minor": 4
}
